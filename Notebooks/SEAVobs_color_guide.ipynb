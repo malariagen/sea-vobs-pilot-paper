{
 "cells": [
  {
   "cell_type": "code",
   "execution_count": 46,
   "metadata": {},
   "outputs": [],
   "source": [
    "import pandas as pd\n",
    "import matplotlib.pyplot as plt\n",
    "import seaborn as sns\n",
    "import matplotlib as mpl\n",
    "from matplotlib.ticker import *\n",
    "from matplotlib.colors import *\n",
    "%matplotlib inline"
   ]
  },
  {
   "cell_type": "code",
   "execution_count": 2,
   "metadata": {},
   "outputs": [],
   "source": [
    "color_df= pd.read_csv('SEAvobs_groups_colors.csv', delimiter=',', header=0, na_values='unknown')"
   ]
  },
  {
   "cell_type": "markdown",
   "metadata": {},
   "source": [
    "## Colors for plotting by species group"
   ]
  },
  {
   "cell_type": "markdown",
   "metadata": {},
   "source": [
    "### This is what we will be using for our various trees\n"
   ]
  },
  {
   "cell_type": "code",
   "execution_count": 47,
   "metadata": {},
   "outputs": [
    {
     "data": {
      "text/plain": [
       "array(['Annularis group', 'Barbirostris group', 'Leucosphyrus group',\n",
       "       'Funestus group', 'Hyrcanus group', 'Kochi group',\n",
       "       'Maculatus group', 'An. karwari (Neocellia series)',\n",
       "       'Jamesii group', 'Subpictus group', 'Ludlowae group',\n",
       "       'Tessellatus group'], dtype=object)"
      ]
     },
     "execution_count": 47,
     "metadata": {},
     "output_type": "execute_result"
    }
   ],
   "source": [
    "color_df.species_gr.unique()"
   ]
  },
  {
   "cell_type": "code",
   "execution_count": 48,
   "metadata": {},
   "outputs": [
    {
     "data": {
      "image/png": "[encoded data removed]",
      "text/plain": [
       "<Figure size 2160x72 with 1 Axes>"
      ]
     },
     "metadata": {
      "needs_background": "light"
     },
     "output_type": "display_data"
    }
   ],
   "source": [
    "palette = sns.color_palette(palette='nipy_spectral', n_colors=30)\n",
    "sns.palplot(palette)"
   ]
  },
  {
   "cell_type": "code",
   "execution_count": 49,
   "metadata": {},
   "outputs": [],
   "source": [
    "#use names and palette to define plotting colors for species group (for nipy_spectral n=30)\n",
    "#we need the n=30 to pick out a few more distinct tones of colors\n",
    "\n",
    "color_grp = {\n",
    "    'Annularis group': palette[2],\n",
    "    'Barbirostris group': palette[3],\n",
    "    'Leucosphyrus group': palette[6],\n",
    "    'Funestus group': palette[8],\n",
    "    'Hyrcanus group': palette[13],\n",
    "    'Kochi group': 'yellow',\n",
    "    'Maculatus group': palette[15],\n",
    "    'An. karwari (Neocellia series)': palette[19],\n",
    "    'Jamesii group': palette[22],\n",
    "    'Subpictus group': palette[24],\n",
    "    'Ludlowae group': palette[28],\n",
    "    'Tessellatus group': 'k'\n",
    "}\n",
    "\n",
    "labels = {\n",
    "    'Annularis group': 'Annularis group',\n",
    "    'Barbirostris group': 'Barbirostris group',\n",
    "    'Leucosphyrus group': 'Leucosphyrus group',\n",
    "    'Funestus group': 'Funestus group',\n",
    "    'Hyrcanus group': 'Hyrcanus group',\n",
    "    'Kochi group': 'Kochi group',\n",
    "    'Maculatus group': 'Maculatus group',\n",
    "    'An. karwari (Neocellia series)': 'An. karwari',\n",
    "    'Jamesii group': 'Jamesii group',\n",
    "    'Subpictus group': 'Subpictus group',\n",
    "    'Ludlowae group': 'Ludlowae group',\n",
    "    'Tessellatus group': 'Tessellatus group'\n",
    "}"
   ]
  },
  {
   "cell_type": "markdown",
   "metadata": {},
   "source": [
    "### This is what those species group colors look like:"
   ]
  },
  {
   "cell_type": "code",
   "execution_count": 50,
   "metadata": {},
   "outputs": [
    {
     "data": {
      "image/png": "[encoded data removed]",
      "text/plain": [
       "<Figure size 1152x72 with 1 Axes>"
      ]
     },
     "metadata": {},
     "output_type": "display_data"
    }
   ],
   "source": [
    "# These are the colors used for our trees, so some groups/colors have more representation in the tree figures than others\n",
    "fig = plt.figure(figsize=(16, 1), )\n",
    "gs = mpl.gridspec.GridSpec(nrows=1, ncols=1)\n",
    "\n",
    "ax = fig.add_subplot(gs[0])\n",
    "sp_gr_colors = [color_grp[p] for p in color_df.species_gr]\n",
    "\n",
    "ax.broken_barh([(i, 1) for i in range(len(color_df))], yrange=(0, 1), color=(sp_gr_colors))\n",
    "ax.set_xlim(0, len(color_df.species_gr))\n",
    "ax.set_yticks([])\n",
    "\n",
    "ax.set_xticks([]);\n"
   ]
  },
  {
   "cell_type": "markdown",
   "metadata": {},
   "source": [
    "## Colors for plotting by alignment"
   ]
  },
  {
   "cell_type": "code",
   "execution_count": 51,
   "metadata": {},
   "outputs": [],
   "source": [
    "# use names and palette to define plotting colors for alignment\n",
    "color_aln= {\"AculA1\": 'r',\n",
    "           \"AdirW1\": 'darkorange',\n",
    "           \"AepiE1\": 'gold',\n",
    "           \"AfarF2\": 'lawngreen',\n",
    "           \"AfunF1\": 'g',\n",
    "           \"AgamP4\": 'c',\n",
    "           \"AmacM1\": 'dodgerblue',\n",
    "           \"AminM1\": 'darkblue',\n",
    "           \"AsinC2\": 'purple',\n",
    "           \"AsinS2\": 'm',\n",
    "           \"AsteI2\": 'grey',\n",
    "           \"AsteS1\": 'k'\n",
    "            }"
   ]
  },
  {
   "cell_type": "code",
   "execution_count": 52,
   "metadata": {},
   "outputs": [],
   "source": [
    "# OR a df\n",
    "color_alndf= pd.read_csv('color_aln.csv', delimiter=',', header=0, na_values='unknown')"
   ]
  },
  {
   "cell_type": "markdown",
   "metadata": {},
   "source": [
    "### This is what those alignment colors look like"
   ]
  },
  {
   "cell_type": "code",
   "execution_count": 53,
   "metadata": {},
   "outputs": [
    {
     "data": {
      "image/png": "[encoded data removed]",
      "text/plain": [
       "<Figure size 864x72 with 1 Axes>"
      ]
     },
     "metadata": {},
     "output_type": "display_data"
    }
   ],
   "source": [
    "# These are used in our aligment statistics plots, so these colors are pretty evenly represented in most plots\n",
    "\n",
    "fig = plt.figure(figsize=(12, 1), )\n",
    "gs = mpl.gridspec.GridSpec(nrows=1, ncols=1)\n",
    "\n",
    "ax = fig.add_subplot(gs[0])\n",
    "aln_colors = [color_aln[c] for c in color_alndf.alignment]\n",
    "\n",
    "ax.broken_barh([(i, 1) for i in range(len(color_alndf))], yrange=(0, 1), color=(aln_colors))\n",
    "ax.set_xlim(0, len(color_alndf))\n",
    "ax.set_yticks([])\n",
    "ax.set_xticks([]);\n"
   ]
  },
  {
   "cell_type": "markdown",
   "metadata": {},
   "source": [
    "### colors for plotting by species is in the color_df under sp_id_colors"
   ]
  },
  {
   "cell_type": "markdown",
   "metadata": {},
   "source": [
    "We don't currently have any plots planned for the paper by species color"
   ]
  },
  {
   "cell_type": "code",
   "execution_count": 56,
   "metadata": {},
   "outputs": [
    {
     "data": {
      "text/html": [
       "<div>\n",
       "<style scoped>\n",
       "    .dataframe tbody tr th:only-of-type {\n",
       "        vertical-align: middle;\n",
       "    }\n",
       "\n",
       "    .dataframe tbody tr th {\n",
       "        vertical-align: top;\n",
       "    }\n",
       "\n",
       "    .dataframe thead th {\n",
       "        text-align: right;\n",
       "    }\n",
       "</style>\n",
       "<table border=\"1\" class=\"dataframe\">\n",
       "  <thead>\n",
       "    <tr style=\"text-align: right;\">\n",
       "      <th></th>\n",
       "      <th>ox_code</th>\n",
       "      <th>wga</th>\n",
       "      <th>speciesID</th>\n",
       "      <th>species_gr</th>\n",
       "      <th>include</th>\n",
       "      <th>sp_id_color</th>\n",
       "    </tr>\n",
       "  </thead>\n",
       "  <tbody>\n",
       "    <tr>\n",
       "      <th>0</th>\n",
       "      <td>VBS00001</td>\n",
       "      <td>False</td>\n",
       "      <td>An. annularis</td>\n",
       "      <td>Annularis group</td>\n",
       "      <td>True</td>\n",
       "      <td>rebeccapurple</td>\n",
       "    </tr>\n",
       "    <tr>\n",
       "      <th>1</th>\n",
       "      <td>VBS00002</td>\n",
       "      <td>False</td>\n",
       "      <td>An. annularis</td>\n",
       "      <td>Annularis group</td>\n",
       "      <td>True</td>\n",
       "      <td>rebeccapurple</td>\n",
       "    </tr>\n",
       "    <tr>\n",
       "      <th>2</th>\n",
       "      <td>VBS00003</td>\n",
       "      <td>False</td>\n",
       "      <td>An. annularis</td>\n",
       "      <td>Annularis group</td>\n",
       "      <td>True</td>\n",
       "      <td>rebeccapurple</td>\n",
       "    </tr>\n",
       "    <tr>\n",
       "      <th>3</th>\n",
       "      <td>VBS00004</td>\n",
       "      <td>False</td>\n",
       "      <td>An. annularis</td>\n",
       "      <td>Annularis group</td>\n",
       "      <td>True</td>\n",
       "      <td>rebeccapurple</td>\n",
       "    </tr>\n",
       "    <tr>\n",
       "      <th>4</th>\n",
       "      <td>VBS00005</td>\n",
       "      <td>False</td>\n",
       "      <td>An. annularis</td>\n",
       "      <td>Annularis group</td>\n",
       "      <td>False</td>\n",
       "      <td>rebeccapurple</td>\n",
       "    </tr>\n",
       "  </tbody>\n",
       "</table>\n",
       "</div>"
      ],
      "text/plain": [
       "    ox_code    wga      speciesID       species_gr  include    sp_id_color\n",
       "0  VBS00001  False  An. annularis  Annularis group     True  rebeccapurple\n",
       "1  VBS00002  False  An. annularis  Annularis group     True  rebeccapurple\n",
       "2  VBS00003  False  An. annularis  Annularis group     True  rebeccapurple\n",
       "3  VBS00004  False  An. annularis  Annularis group     True  rebeccapurple\n",
       "4  VBS00005  False  An. annularis  Annularis group    False  rebeccapurple"
      ]
     },
     "execution_count": 56,
     "metadata": {},
     "output_type": "execute_result"
    }
   ],
   "source": [
    "# This df also includes which samples are WGAed or not, and which we thought about tossing out for \n",
    "# final analysis and figures after some more QC\n",
    "\n",
    "color_df.head()"
   ]
  },
  {
   "cell_type": "code",
   "execution_count": null,
   "metadata": {},
   "outputs": [],
   "source": []
  }
 ],
 "metadata": {
  "kernelspec": {
   "display_name": "Python 3",
   "language": "python",
   "name": "python3"
  },
  "language_info": {
   "codemirror_mode": {
    "name": "ipython",
    "version": 3
   },
   "file_extension": ".py",
   "mimetype": "text/x-python",
   "name": "python",
   "nbconvert_exporter": "python",
   "pygments_lexer": "ipython3",
   "version": "3.5.5"
  }
 },
 "nbformat": 4,
 "nbformat_minor": 2
}

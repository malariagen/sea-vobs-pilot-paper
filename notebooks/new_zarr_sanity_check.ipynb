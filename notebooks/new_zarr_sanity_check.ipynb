{
 "cells": [
  {
   "cell_type": "code",
   "execution_count": 1,
   "metadata": {
    "collapsed": true
   },
   "outputs": [],
   "source": [
    "import zarr\n",
    "import sys\n",
    "import allel\n",
    "import numpy as np\n",
    "%matplotlib inline\n",
    "import matplotlib.pyplot as plt\n",
    "import seaborn as sns"
   ]
  },
  {
   "cell_type": "code",
   "execution_count": 2,
   "metadata": {},
   "outputs": [
    {
     "data": {
      "text/plain": [
       "<zarr.hierarchy.Group '/' read-only>"
      ]
     },
     "execution_count": 2,
     "metadata": {},
     "output_type": "execute_result"
    }
   ],
   "source": [
    "callset = zarr.open_group('new_uniref_merged.zarr', mode='r')\n",
    "callset"
   ]
  },
  {
   "cell_type": "code",
   "execution_count": 3,
   "metadata": {},
   "outputs": [
    {
     "data": {
      "text/plain": [
       "['AD', 'DP', 'GQ', 'GT', 'PL']"
      ]
     },
     "execution_count": 3,
     "metadata": {},
     "output_type": "execute_result"
    }
   ],
   "source": [
    "list(callset['calldata'].keys())"
   ]
  },
  {
   "cell_type": "code",
   "execution_count": 5,
   "metadata": {},
   "outputs": [
    {
     "data": {
      "text/plain": [
       "(array(['AC0007-C', 'AC0017-C', 'AC0030-C', 'AC0049-C', 'AC0075-C',\n",
       "        'AC0092-C', 'AC0115-C', 'AC0140-C', 'AC0174-C', 'AC0199-C',\n",
       "        'VBS00001', 'VBS00002', 'VBS00003', 'VBS00004', 'VBS00006',\n",
       "        'VBS00008', 'VBS00009', 'VBS00010', 'VBS00011', 'VBS00012',\n",
       "        'VBS00013', 'VBS00014', 'VBS00015', 'VBS00017', 'VBS00019',\n",
       "        'VBS00020', 'VBS00021', 'VBS00022', 'VBS00023', 'VBS00024',\n",
       "        'VBS00025', 'VBS00026', 'VBS00029', 'VBS00030', 'VBS00031',\n",
       "        'VBS00032', 'VBS00033', 'VBS00034', 'VBS00035', 'VBS00036',\n",
       "        'VBS00037', 'VBS00038', 'VBS00039', 'VBS00040', 'VBS00041',\n",
       "        'VBS00042', 'VBS00043', 'VBS00044', 'VBS00045', 'VBS00046',\n",
       "        'VBS00047', 'VBS00048', 'VBS00049', 'VBS00050', 'VBS00051',\n",
       "        'VBS00052', 'VBS00053', 'VBS00055', 'VBS00059', 'VBS00061',\n",
       "        'VBS00063', 'VBS00064', 'VBS00065', 'VBS00066', 'VBS00068',\n",
       "        'VBS00069', 'VBS00071', 'VBS00072', 'VBS00074', 'VBS00075',\n",
       "        'VBS00076', 'VBS00078', 'VBS00079', 'VBS00081', 'VBS00082',\n",
       "        'VBS00083', 'VBS00084', 'VBS00085', 'VBS00086', 'VBS00087',\n",
       "        'VBS00088', 'VBS00089', 'VBS00090', 'VBS00091', 'VBS00093',\n",
       "        'VBS00094', 'VBS00095', 'VBS00096', 'VBS00097', 'VBS00098',\n",
       "        'VBS00099', 'VBS00100', 'VBS00101', 'VBS00104', 'VBS00106',\n",
       "        'VBS00107', 'VBS00108', 'VBS00110', 'VBS00112', 'VBS00113',\n",
       "        'VBS00114', 'VBS00115', 'VBS00117', 'VBS00118', 'VBS00121',\n",
       "        'VBS00122', 'VBS00123', 'VBS00124', 'VBS00125', 'VBS00127',\n",
       "        'VBS00128', 'VBS00130', 'VBS00132', 'VBS00133', 'VBS00134',\n",
       "        'VBS00135', 'VBS00136', 'VBS00137', 'VBS00138', 'VBS00142',\n",
       "        'VBS00144', 'VBS00145', 'VBS00146', 'VBS00147', 'VBS00148',\n",
       "        'VBS00149', 'VBS00150', 'VBS00154', 'VBS00156', 'VBS00157',\n",
       "        'VBS00158', 'VBS17190', 'VBS17191', 'VBS17192', 'VBS17193',\n",
       "        'VBS17194'], dtype=object), 136)"
      ]
     },
     "execution_count": 5,
     "metadata": {},
     "output_type": "execute_result"
    }
   ],
   "source": [
    "samples = callset['samples'][:]\n",
    "samples, len(samples)"
   ]
  },
  {
   "cell_type": "code",
   "execution_count": 6,
   "metadata": {},
   "outputs": [
    {
     "data": {
      "text/plain": [
       "(266548, 136, 2)"
      ]
     },
     "execution_count": 6,
     "metadata": {},
     "output_type": "execute_result"
    }
   ],
   "source": [
    "callset['calldata/GT'][:].shape"
   ]
  },
  {
   "cell_type": "code",
   "execution_count": 7,
   "metadata": {},
   "outputs": [
    {
     "data": {
      "text/plain": [
       "array([-1, -1, -1, -1], dtype=int16)"
      ]
     },
     "execution_count": 7,
     "metadata": {},
     "output_type": "execute_result"
    }
   ],
   "source": [
    "callset['calldata/AD'][0][0]"
   ]
  },
  {
   "cell_type": "code",
   "execution_count": 8,
   "metadata": {},
   "outputs": [
    {
     "data": {
      "text/plain": [
       "3918"
      ]
     },
     "execution_count": 8,
     "metadata": {},
     "output_type": "execute_result"
    }
   ],
   "source": [
    "chrom = callset['variants/CHROM'][:]\n",
    "chromunq  = np.unique(chrom)\n",
    "len(chromunq)"
   ]
  },
  {
   "cell_type": "code",
   "execution_count": 9,
   "metadata": {},
   "outputs": [
    {
     "data": {
      "text/plain": [
       "array(['Pf_M76611', 'chr2L.1', 'chr2L.10', ..., 'chrX.97', 'chrX.98',\n",
       "       'chrX.99'], dtype=object)"
      ]
     },
     "execution_count": 9,
     "metadata": {},
     "output_type": "execute_result"
    }
   ],
   "source": [
    "chromunq"
   ]
  },
  {
   "cell_type": "code",
   "execution_count": 10,
   "metadata": {},
   "outputs": [
    {
     "data": {
      "text/html": [
       "<div class=\"allel allel-DisplayAs2D\"><span>&lt;GenotypeArray shape=(266548, 136, 2) dtype=int8&gt;</span><table><thead><tr><th></th><th style=\"text-align: center\">0</th><th style=\"text-align: center\">1</th><th style=\"text-align: center\">2</th><th style=\"text-align: center\">3</th><th style=\"text-align: center\">4</th><th style=\"text-align: center\">...</th><th style=\"text-align: center\">131</th><th style=\"text-align: center\">132</th><th style=\"text-align: center\">133</th><th style=\"text-align: center\">134</th><th style=\"text-align: center\">135</th></tr></thead><tbody><tr><th style=\"text-align: center; background-color: white; border-right: 1px solid black; \">0</th><td style=\"text-align: center\">0/0</td><td style=\"text-align: center\">0/0</td><td style=\"text-align: center\">0/0</td><td style=\"text-align: center\">0/0</td><td style=\"text-align: center\">0/0</td><td style=\"text-align: center\">...</td><td style=\"text-align: center\">./.</td><td style=\"text-align: center\">./.</td><td style=\"text-align: center\">./.</td><td style=\"text-align: center\">./.</td><td style=\"text-align: center\">./.</td></tr><tr><th style=\"text-align: center; background-color: white; border-right: 1px solid black; \">1</th><td style=\"text-align: center\">0/0</td><td style=\"text-align: center\">0/0</td><td style=\"text-align: center\">0/0</td><td style=\"text-align: center\">0/0</td><td style=\"text-align: center\">0/0</td><td style=\"text-align: center\">...</td><td style=\"text-align: center\">./.</td><td style=\"text-align: center\">./.</td><td style=\"text-align: center\">./.</td><td style=\"text-align: center\">./.</td><td style=\"text-align: center\">./.</td></tr><tr><th style=\"text-align: center; background-color: white; border-right: 1px solid black; \">2</th><td style=\"text-align: center\">0/0</td><td style=\"text-align: center\">0/0</td><td style=\"text-align: center\">0/0</td><td style=\"text-align: center\">0/0</td><td style=\"text-align: center\">0/0</td><td style=\"text-align: center\">...</td><td style=\"text-align: center\">./.</td><td style=\"text-align: center\">./.</td><td style=\"text-align: center\">./.</td><td style=\"text-align: center\">./.</td><td style=\"text-align: center\">./.</td></tr><tr><th style=\"text-align: center; background-color: white; border-right: 1px solid black; \">...</th><td style=\"text-align: center\" colspan=\"12\">...</td></tr><tr><th style=\"text-align: center; background-color: white; border-right: 1px solid black; \">266545</th><td style=\"text-align: center\">./.</td><td style=\"text-align: center\">./.</td><td style=\"text-align: center\">./.</td><td style=\"text-align: center\">./.</td><td style=\"text-align: center\">./.</td><td style=\"text-align: center\">...</td><td style=\"text-align: center\">./.</td><td style=\"text-align: center\">./.</td><td style=\"text-align: center\">./.</td><td style=\"text-align: center\">./.</td><td style=\"text-align: center\">./.</td></tr><tr><th style=\"text-align: center; background-color: white; border-right: 1px solid black; \">266546</th><td style=\"text-align: center\">./.</td><td style=\"text-align: center\">./.</td><td style=\"text-align: center\">./.</td><td style=\"text-align: center\">./.</td><td style=\"text-align: center\">./.</td><td style=\"text-align: center\">...</td><td style=\"text-align: center\">./.</td><td style=\"text-align: center\">./.</td><td style=\"text-align: center\">./.</td><td style=\"text-align: center\">./.</td><td style=\"text-align: center\">./.</td></tr><tr><th style=\"text-align: center; background-color: white; border-right: 1px solid black; \">266547</th><td style=\"text-align: center\">./.</td><td style=\"text-align: center\">./.</td><td style=\"text-align: center\">./.</td><td style=\"text-align: center\">./.</td><td style=\"text-align: center\">./.</td><td style=\"text-align: center\">...</td><td style=\"text-align: center\">./.</td><td style=\"text-align: center\">./.</td><td style=\"text-align: center\">./.</td><td style=\"text-align: center\">./.</td><td style=\"text-align: center\">./.</td></tr></tbody></table></div>"
      ],
      "text/plain": [
       "<GenotypeArray shape=(266548, 136, 2) dtype=int8>\n",
       "0/0 0/0 0/0 0/0 0/0 ... ./. ./. ./. ./. ./.\n",
       "0/0 0/0 0/0 0/0 0/0 ... ./. ./. ./. ./. ./.\n",
       "0/0 0/0 0/0 0/0 0/0 ... ./. ./. ./. ./. ./.\n",
       "...\n",
       "./. ./. ./. ./. ./. ... ./. ./. ./. ./. ./.\n",
       "./. ./. ./. ./. ./. ... ./. ./. ./. ./. ./.\n",
       "./. ./. ./. ./. ./. ... ./. ./. ./. ./. ./."
      ]
     },
     "execution_count": 10,
     "metadata": {},
     "output_type": "execute_result"
    }
   ],
   "source": [
    "gt = allel.GenotypeArray(callset['calldata/GT'])\n",
    "gt"
   ]
  },
  {
   "cell_type": "code",
   "execution_count": 12,
   "metadata": {
    "collapsed": true
   },
   "outputs": [],
   "source": [
    "ismiss = gt.is_missing()"
   ]
  },
  {
   "cell_type": "code",
   "execution_count": 13,
   "metadata": {},
   "outputs": [],
   "source": [
    "persnp_miss = np.count_nonzero(ismiss, axis=1)/136"
   ]
  },
  {
   "cell_type": "code",
   "execution_count": 14,
   "metadata": {},
   "outputs": [
    {
     "data": {
      "image/png": "[encoded data removed]",
      "text/plain": [
       "<matplotlib.figure.Figure at 0x7f162bd8cb70>"
      ]
     },
     "metadata": {},
     "output_type": "display_data"
    }
   ],
   "source": [
    "plt.hist(persnp_miss, bins=20);"
   ]
  },
  {
   "cell_type": "code",
   "execution_count": null,
   "metadata": {
    "collapsed": true
   },
   "outputs": [],
   "source": []
  }
 ],
 "metadata": {
  "kernelspec": {
   "display_name": "Python 3",
   "language": "python",
   "name": "python3"
  },
  "language_info": {
   "codemirror_mode": {
    "name": "ipython",
    "version": 3
   },
   "file_extension": ".py",
   "mimetype": "text/x-python",
   "name": "python",
   "nbconvert_exporter": "python",
   "pygments_lexer": "ipython3",
   "version": "3.6.1"
  }
 },
 "nbformat": 4,
 "nbformat_minor": 2
}
